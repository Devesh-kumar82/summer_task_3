{
 "cells": [
  {
   "cell_type": "markdown",
   "metadata": {},
   "source": [
    "# Server"
   ]
  },
  {
   "cell_type": "code",
   "execution_count": 9,
   "metadata": {},
   "outputs": [],
   "source": [
    "import socket , cv2 , numpy\n",
    "import  threading"
   ]
  },
  {
   "cell_type": "code",
   "execution_count": 10,
   "metadata": {},
   "outputs": [],
   "source": [
    "def send():\n",
    "        while True:\n",
    "            status, photo = cam.read()\n",
    "            photo = cv2.resize(photo, (640, 480))\n",
    "            c.send(numpy.ndarray.tobytes(photo))\n",
    "            #c.send(input(\"\\n\").encode())"
   ]
  },
  {
   "cell_type": "code",
   "execution_count": 11,
   "metadata": {},
   "outputs": [],
   "source": [
    "def recv():\n",
    "        while True:\n",
    "            data = c.recv(100000000)\n",
    "            photo =  numpy.frombuffer(data, dtype=numpy.uint8)\n",
    "            if len(photo) == 640*480*3:\n",
    "                cv2.imshow('From Client', photo.reshape(480, 640, 3))\n",
    "                if cv2.waitKey(10) == 13:\n",
    "                    cv2.destroyAllWindows()\n",
    "                    break\n",
    "            #x=c.recv(1024)\n",
    "            #print(\"\\n\\t\\t\\t\\t\\t\\tReceived{}:- {}\".format(addr,x.decode()))"
   ]
  },
  {
   "cell_type": "code",
   "execution_count": 12,
   "metadata": {},
   "outputs": [
    {
     "name": "stdout",
     "output_type": "stream",
     "text": [
      "\t\t\t....WELCOME TO MY LIVE CHAT....\n",
      "\n",
      "\n"
     ]
    }
   ],
   "source": [
    "\n",
    "print(\"\\t\\t\\t....WELCOME TO MY LIVE CHAT....\\n\\n\")\n",
    "\n",
    "s = socket.socket(socket.AF_INET , socket.SOCK_STREAM)\n",
    "ip=\"192.168.43.192\"\n",
    "port= 1234\n",
    "s.bind((ip,int(port)))\n",
    "s.listen()\n",
    "c,addr=s.accept()\n",
    "\n",
    "mob='http://192.168.43.1:8080/video'\n",
    "cam = cv2.VideoCapture(mob)\n",
    "\n",
    "t1=threading.Thread(target=send)\n",
    "t2=threading.Thread(target=recv)\n",
    "\n",
    "\n",
    "t2.start()\n",
    "t1.start()"
   ]
  },
  {
   "cell_type": "code",
   "execution_count": null,
   "metadata": {},
   "outputs": [],
   "source": []
  },
  {
   "cell_type": "code",
   "execution_count": null,
   "metadata": {},
   "outputs": [],
   "source": []
  },
  {
   "cell_type": "code",
   "execution_count": null,
   "metadata": {},
   "outputs": [],
   "source": [
    "camera.release()"
   ]
  },
  {
   "cell_type": "code",
   "execution_count": null,
   "metadata": {},
   "outputs": [],
   "source": []
  },
  {
   "cell_type": "code",
   "execution_count": null,
   "metadata": {},
   "outputs": [],
   "source": []
  },
  {
   "cell_type": "code",
   "execution_count": null,
   "metadata": {},
   "outputs": [],
   "source": []
  },
  {
   "cell_type": "code",
   "execution_count": null,
   "metadata": {},
   "outputs": [],
   "source": []
  },
  {
   "cell_type": "code",
   "execution_count": null,
   "metadata": {},
   "outputs": [],
   "source": []
  },
  {
   "cell_type": "code",
   "execution_count": null,
   "metadata": {},
   "outputs": [],
   "source": []
  },
  {
   "cell_type": "code",
   "execution_count": null,
   "metadata": {},
   "outputs": [],
   "source": [
    "import socket\n",
    "import numpy as np\n",
    "import cv2 as cv\n",
    "import threading\n",
    "\n",
    "skt = socket.socket()\n",
    "skt.bind((\"\", 1234))\n",
    "skt.listen()\n",
    "session, address = skt.accept() #accepting request from any server\n",
    "print(session.recv(2046)) \n",
    "cameraIndex = 'http://192.168.43.1:8080/video' # using camera from IPCamera App\n",
    "camera = cv.VideoCapture(cameraIndex) # staritng camera\n",
    "\n",
    "def sender():\n",
    "    while True:\n",
    "        status, photo = camera.read()\n",
    "        photo = cv.resize(photo, (640, 480))\n",
    "        print(photo.shape)\n",
    "        if status:\n",
    "            session.send(np.ndarray.tobytes(photo))\n",
    "        else: print(\"Could not get frame\")\n",
    "\n",
    "def receiver():\n",
    "    framesLost = 0\n",
    "    print(\"Entered\")\n",
    "    while True:\n",
    "        framesLost += 1\n",
    "        data = session.recv(100000000)\n",
    "        if(data == b'finished'):\n",
    "            print(\"Finished\")\n",
    "            camera.release()\n",
    "            session.close()\n",
    "        else:\n",
    "            photo =  np.frombuffer(data, dtype=np.uint8)\n",
    "            if len(photo) == 640*480*3:\n",
    "            #if len(photo) == 600*500*3:\n",
    "                cv.imshow('From Client', photo.reshape(480, 640, 3))\n",
    "                #cv.imshow('From Client', photo.reshape(580, 740, 3))\n",
    "                if cv.waitKey(1) == 13:\n",
    "                    session.send(b'finished')\n",
    "                    camera.release()\n",
    "                    cv.destroyAllWindows()\n",
    "                    break\n",
    "            else:\n",
    "                print(\"Lost {} frames\".format(framesLost) )\n",
    "                \n",
    "threading.Thread(target=sender).start()\n",
    "threading.Thread(target=receiver).start()"
   ]
  },
  {
   "cell_type": "code",
   "execution_count": null,
   "metadata": {},
   "outputs": [],
   "source": []
  }
 ],
 "metadata": {
  "kernelspec": {
   "display_name": "Python 3",
   "language": "python",
   "name": "python3"
  },
  "language_info": {
   "codemirror_mode": {
    "name": "ipython",
    "version": 3
   },
   "file_extension": ".py",
   "mimetype": "text/x-python",
   "name": "python",
   "nbconvert_exporter": "python",
   "pygments_lexer": "ipython3",
   "version": "3.8.3"
  }
 },
 "nbformat": 4,
 "nbformat_minor": 4
}
