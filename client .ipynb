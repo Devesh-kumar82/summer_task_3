{
 "cells": [
  {
   "cell_type": "markdown",
   "metadata": {},
   "source": [
    "# Client"
   ]
  },
  {
   "cell_type": "code",
   "execution_count": 6,
   "metadata": {},
   "outputs": [],
   "source": [
    "import socket , cv2 , numpy\n",
    "import threading\n"
   ]
  },
  {
   "cell_type": "code",
   "execution_count": 7,
   "metadata": {},
   "outputs": [],
   "source": [
    "def send():\n",
    "    while True:\n",
    "        ret,video = cam.read()\n",
    "        photo = cv2.resize(video, (640, 480))\n",
    "        s.send(numpy.ndarray.tobytes(video))\n",
    "        #s.send(input(\"\\n \").encode())\n"
   ]
  },
  {
   "cell_type": "code",
   "execution_count": 8,
   "metadata": {},
   "outputs": [],
   "source": [
    "def recv():\n",
    "    while True:\n",
    "        data = s.recv(100000000)\n",
    "        photo =  numpy.frombuffer(data, dtype=numpy.uint8)\n",
    "        if len(photo) == 640*480*3:\n",
    "            cv2.imshow('From Server', photo.reshape(480, 640, 3))\n",
    "            if cv2.waitKey(10) == 13:\n",
    "                cv2.destroyAllWindows()\n",
    "                cam.release()\n",
    "                break\n",
    "        #msg=s.recv(1024)\n",
    "        #print(\"\\n\\t\\t\\t\\t\\tReceived:- {}\".format(addr,msg.decode()))\n"
   ]
  },
  {
   "cell_type": "code",
   "execution_count": 9,
   "metadata": {},
   "outputs": [
    {
     "name": "stderr",
     "output_type": "stream",
     "text": [
      "Exception in thread Thread-6:\n",
      "Traceback (most recent call last):\n",
      "  File \"C:\\Users\\lenovo\\anaconda3\\lib\\threading.py\", line 932, in _bootstrap_inner\n",
      "Exception in thread Thread-7:\n",
      "Traceback (most recent call last):\n",
      "  File \"C:\\Users\\lenovo\\anaconda3\\lib\\threading.py\", line 932, in _bootstrap_inner\n",
      "    self.run()\n",
      "  File \"C:\\Users\\lenovo\\anaconda3\\lib\\threading.py\", line 870, in run\n",
      "    self.run()\n",
      "  File \"C:\\Users\\lenovo\\anaconda3\\lib\\threading.py\", line 870, in run\n",
      "    self._target(*self._args, **self._kwargs)\n",
      "  File \"<ipython-input-2-b3aaaabca22c>\", line 5, in send\n",
      "    self._target(*self._args, **self._kwargs)\n",
      "ConnectionResetError: [WinError 10054] An existing connection was forcibly closed by the remote host\n",
      "  File \"<ipython-input-3-3be2620fff16>\", line 3, in recv\n",
      "ConnectionResetError: [WinError 10054] An existing connection was forcibly closed by the remote host\n"
     ]
    },
    {
     "name": "stdout",
     "output_type": "stream",
     "text": [
      "\t\t\t\t\t........WELCOME TO MY LIVE CHATE........\n",
      "\n",
      "\n"
     ]
    }
   ],
   "source": [
    "\n",
    "print(\"\\t\\t\\t\\t\\t........WELCOME TO MY LIVE CHATE........\\n\\n\")\n",
    "ip= \"192.168.43.192\"\n",
    "port= 1234\n",
    " \n",
    "s = socket.socket(socket.AF_INET , socket.SOCK_STREAM)\n",
    "s.connect(( ip , int(port)))\n",
    "cam = cv2.VideoCapture(0)\n",
    "\n",
    "\n",
    "t1=threading.Thread(target = send)\n",
    "t2=threading.Thread(target = recv)\n",
    "\n",
    "\n",
    "t2.start()\n",
    "t1.start()"
   ]
  },
  {
   "cell_type": "code",
   "execution_count": 5,
   "metadata": {},
   "outputs": [],
   "source": [
    "cam.release()\n"
   ]
  }
 ],
 "metadata": {
  "kernelspec": {
   "display_name": "Python 3",
   "language": "python",
   "name": "python3"
  },
  "language_info": {
   "codemirror_mode": {
    "name": "ipython",
    "version": 3
   },
   "file_extension": ".py",
   "mimetype": "text/x-python",
   "name": "python",
   "nbconvert_exporter": "python",
   "pygments_lexer": "ipython3",
   "version": "3.8.3"
  }
 },
 "nbformat": 4,
 "nbformat_minor": 4
}
