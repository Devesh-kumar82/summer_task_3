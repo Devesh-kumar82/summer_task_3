{
 "cells": [
  {
   "cell_type": "markdown",
   "metadata": {},
   "source": [
    "# Client"
   ]
  },
  {
   "cell_type": "code",
   "execution_count": 6,
   "metadata": {},
   "outputs": [],
   "source": [
    "import socket , cv2 , numpy\n",
    "import threading\n"
   ]
  },
  {
   "cell_type": "code",
   "execution_count": 7,
   "metadata": {},
   "outputs": [],
   "source": [
    "def send():\n",
    "    while True:\n",
    "        ret,video = cam.read()\n",
    "        photo = cv2.resize(video, (640, 480))\n",
    "        s.send(numpy.ndarray.tobytes(video))\n",
    "        #s.send(input(\"\\n \").encode())\n"
   ]
  },
  {
   "cell_type": "code",
   "execution_count": 8,
   "metadata": {},
   "outputs": [],
   "source": [
    "def recv():\n",
    "    while True:\n",
    "        data = s.recv(100000000)\n",
    "        photo =  numpy.frombuffer(data, dtype=numpy.uint8)\n",
    "        if len(photo) == 640*480*3:\n",
    "            cv2.imshow('From Server', photo.reshape(480, 640, 3))\n",
    "            if cv2.waitKey(10) == 13:\n",
    "                cv2.destroyAllWindows()\n",
    "                cam.release()\n",
    "                break\n",
    "        #msg=s.recv(1024)\n",
    "        #print(\"\\n\\t\\t\\t\\t\\tReceived:- {}\".format(addr,msg.decode()))\n"
   ]
  },
  {
   "cell_type": "code",
   "execution_count": 9,
   "metadata": {},
   "outputs": [
    {
     "name": "stderr",
     "output_type": "stream",
     "text": [
      "Exception in thread Thread-6:\n",
      "Traceback (most recent call last):\n",
      "  File \"C:\\Users\\lenovo\\anaconda3\\lib\\threading.py\", line 932, in _bootstrap_inner\n",
      "Exception in thread Thread-7:\n",
      "Traceback (most recent call last):\n",
      "  File \"C:\\Users\\lenovo\\anaconda3\\lib\\threading.py\", line 932, in _bootstrap_inner\n",
      "    self.run()\n",
      "  File \"C:\\Users\\lenovo\\anaconda3\\lib\\threading.py\", line 870, in run\n",
      "    self.run()\n",
      "  File \"C:\\Users\\lenovo\\anaconda3\\lib\\threading.py\", line 870, in run\n",
      "    self._target(*self._args, **self._kwargs)\n",
      "  File \"<ipython-input-2-b3aaaabca22c>\", line 5, in send\n",
      "    self._target(*self._args, **self._kwargs)\n",
      "ConnectionResetError: [WinError 10054] An existing connection was forcibly closed by the remote host\n",
      "  File \"<ipython-input-3-3be2620fff16>\", line 3, in recv\n",
      "ConnectionResetError: [WinError 10054] An existing connection was forcibly closed by the remote host\n"
     ]
    },
    {
     "name": "stdout",
     "output_type": "stream",
     "text": [
      "\t\t\t\t\t........WELCOME TO MY LIVE CHATE........\n",
      "\n",
      "\n"
     ]
    }
   ],
   "source": [
    "\n",
    "print(\"\\t\\t\\t\\t\\t........WELCOME TO MY LIVE CHATE........\\n\\n\")\n",
    "ip= \"192.168.43.192\"\n",
    "port= 1234\n",
    " \n",
    "s = socket.socket(socket.AF_INET , socket.SOCK_STREAM)\n",
    "s.connect(( ip , int(port)))\n",
    "cam = cv2.VideoCapture(0)\n",
    "\n",
    "\n",
    "t1=threading.Thread(target = send)\n",
    "t2=threading.Thread(target = recv)\n",
    "\n",
    "\n",
    "t2.start()\n",
    "t1.start()"
   ]
  },
  {
   "cell_type": "code",
   "execution_count": 5,
   "metadata": {},
   "outputs": [],
   "source": [
    "cam.release()\n"
   ]
  },
  {
   "cell_type": "code",
   "execution_count": null,
   "metadata": {},
   "outputs": [],
   "source": []
  },
  {
   "cell_type": "code",
   "execution_count": null,
   "metadata": {},
   "outputs": [],
   "source": []
  },
  {
   "cell_type": "code",
   "execution_count": null,
   "metadata": {},
   "outputs": [],
   "source": []
  },
  {
   "cell_type": "code",
   "execution_count": null,
   "metadata": {},
   "outputs": [],
   "source": [
    "#importing library\n",
    "\n",
    "import socket\n",
    "import numpy as np\n",
    "import cv2 as cv\n",
    "import threading\n",
    "\n",
    "# client program socket to connect to the server program\n",
    "skt = socket.socket()\n",
    "skt.bind((\"\", 4321))  # empty means local system\n",
    "server_ip = input(\"enter server ip: \")\n",
    "server_port = input(\"enter server port number: \")\n",
    "\n",
    "skt.connect((server_ip, int(server_port))) \n",
    "skt.send(b\"connected\")  # sending string as data\n",
    "cameraIndex = 0 # the camera to use i.e. laptop webcam\n",
    "camera = cv.VideoCapture(cameraIndex) # starting the camera\n",
    "\n",
    "# function for cleint to work as receiver\n",
    "def receiver():\n",
    "    framesLost = 0\n",
    "    print(\"Entered\")\n",
    "    while True:\n",
    "        framesLost += 1 # counting frame\n",
    "        data = skt.recv(100000000)  # receiving data with the size limit\n",
    "        if(data == b'finished'): # to stop receiving and stop camera\n",
    "            print(\"Finished\")\n",
    "            camera.release()\n",
    "            skt.close()\n",
    "        else:  # converting the byte data into numpy array\n",
    "            photo =  np.frombuffer(data, dtype=np.uint8)\n",
    "            if len(photo) == 640*480*3: # changing the array shape and getting the video\n",
    "                cv.imshow('From Server', photo.reshape(480, 640, 3))\n",
    "                if cv.waitKey(1) == 13: # camera closing condition\n",
    "                    skt.send(b'finished')\n",
    "                    camera.release()\n",
    "                    cv.destroyAllWindows()\n",
    "                    break\n",
    "            else:\n",
    "                print(\"Lost {} frames\".format(framesLost) ) #counting the lost frames during video exchange\n",
    "\n",
    "# function for client to send the data of the video             \n",
    "def sender():\n",
    "    while True: # reading the camera data resizing and sending it as byte \n",
    "        status, photo = camera.read()\n",
    "        photo = cv.resize(photo, (640, 480))\n",
    "        #photo = cv.resize(photo, (600, 500))\n",
    "        print(photo.shape)\n",
    "        if status:\n",
    "            skt.send(np.ndarray.tobytes(photo))\n",
    "        else: print(\"Could not get frame\")\n",
    "    camera.release()\n",
    "\n",
    "# threads to run both the functions\n",
    "threading.Thread(target=receiver).start()\n",
    "threading.Thread(target=sender).start()"
   ]
  },
  {
   "cell_type": "code",
   "execution_count": null,
   "metadata": {},
   "outputs": [],
   "source": []
  }
 ],
 "metadata": {
  "kernelspec": {
   "display_name": "Python 3",
   "language": "python",
   "name": "python3"
  },
  "language_info": {
   "codemirror_mode": {
    "name": "ipython",
    "version": 3
   },
   "file_extension": ".py",
   "mimetype": "text/x-python",
   "name": "python",
   "nbconvert_exporter": "python",
   "pygments_lexer": "ipython3",
   "version": "3.8.3"
  }
 },
 "nbformat": 4,
 "nbformat_minor": 4
}
